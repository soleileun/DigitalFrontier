{
 "cells": [
  {
   "cell_type": "code",
   "execution_count": 9,
   "metadata": {
    "colab": {
     "base_uri": "https://localhost:8080/"
    },
    "id": "zZ3GQdQzel92",
    "outputId": "b1e02cdb-dc2a-4e8a-f03d-7f7ea8864847"
   },
   "outputs": [
    {
     "name": "stderr",
     "output_type": "stream",
     "text": [
      "/usr/local/lib/python3.10/dist-packages/urllib3/connectionpool.py:1095: InsecureRequestWarning: Unverified HTTPS request is being made to host 'www.jobplanet.co.kr'. Adding certificate verification is strongly advised. See: https://urllib3.readthedocs.io/en/latest/advanced-usage.html#tls-warnings\n",
      "  warnings.warn(\n",
      "/usr/local/lib/python3.10/dist-packages/urllib3/connectionpool.py:1095: InsecureRequestWarning: Unverified HTTPS request is being made to host 'www.jobplanet.co.kr'. Adding certificate verification is strongly advised. See: https://urllib3.readthedocs.io/en/latest/advanced-usage.html#tls-warnings\n",
      "  warnings.warn(\n"
     ]
    },
    {
     "name": "stdout",
     "output_type": "stream",
     "text": [
      "pass :1-0\n",
      "pass :1-1\n",
      "pass :1-2\n",
      "pass :1-3\n",
      "pass :1-4\n"
     ]
    },
    {
     "name": "stderr",
     "output_type": "stream",
     "text": [
      "/usr/local/lib/python3.10/dist-packages/urllib3/connectionpool.py:1095: InsecureRequestWarning: Unverified HTTPS request is being made to host 'www.jobplanet.co.kr'. Adding certificate verification is strongly advised. See: https://urllib3.readthedocs.io/en/latest/advanced-usage.html#tls-warnings\n",
      "  warnings.warn(\n"
     ]
    },
    {
     "name": "stdout",
     "output_type": "stream",
     "text": [
      "pass :2-0\n",
      "pass :2-1\n",
      "pass :2-2\n",
      "pass :2-3\n",
      "pass :2-4\n",
      "[['금융/재무', '\\n          전직원\\n      ', '서울', '2023. 09', '60%', '60%', '100%', '80%', '60%', '60%', '\\nBEST\\n      한국에서 이정도면 괜찮은 회사인 편이라고 생각합니다\\n    ', '서울 도심에 사무실 있는거 좋고 복지 괜찮고 사람들도 대체로 좋은 사람들 많음', '바뀌려고 노력하고 있지만 여전히 딱딱하고 보수적인 분위기가 답답함', '권위적이고 수직적인 분위기를 타파하는것이 회사 발전에 도움이 될것 같습니다'], ['엔지니어링', '\\n          현직원\\n      ', '부산', '2023. 09', '60%', '60%', '60%', '40%', '60%', '40%', '\\nBEST\\n      경력직이 너무 많은 회사 회사 고유의 색깔이 뚜렷하지 않아서 어느현장이냐에 따라 다 업무스타일이 다름\\n    ', '경력직이 많아 소위 꼰대가 랜덤하게 있음 샌드위치 데이에는 단체 강제연차 사용', '경력직이 너무 많음 회사 고유의 색깔이 부족함 그래서 현장마다 스타일이 다 다름', '경력직 많이 넣는것도 좋지만 회사의 색깔을 잃어버리지 않을려면 최소 현엔 시스템에대해 자세히 아는사람이 많아야됨'], ['엔지니어링', '\\n          전직원\\n      ', '서울', '2023. 09', '80%', '60%', '60%', '80%', '80%', '80%', '\\nBEST\\n      좋은 회사라고 생각합니다 전반적으로 만족한 회사에요\\n    ', '계약직이어서 복지는 거의 해당이 없었지만 그래도 대기업인 만큼 사람들도 괜찮고 분위기도 나랑 잘 맞는 편이었던듯', '급여가 좀 적고 남녀성비가 안맞는게 단점이라면 단점이지만 나랑은 잘 맞았음', '바라는 점은 딱히 없습니다 좋은 분위기를 가지고 있다고 생각해요'], ['법률/법무', '\\n          현직원\\n      ', '서울', '2023. 08', '80%', '60%', '60%', '100%', '60%', '60%', '\\nBEST\\n      대기업 건설사로 플랜트 주택 건축 사업 위주의 회사경력직이 많아서 공채에 비해 차별이 적은 회사\\n    ', '현대 기아차 할인혜택 있음선택근무제 활용해서 주40시간만 채우면 늦게 출근하거나 빨리 퇴근할 수 있음본사가 안국역 바로 옆이라 근무위치 좋음경력직에 대한 차별이 없는 편', '예산 사용이 어려워서 재경쪽 눈치를 많이 보게 되는듯상여금이 적은 편이고 특별한 복지는 없는듯차장 이후 승진이 없음', '합리적인 복지 보상체계가 필요합니다직원들이 마음껏 일할 수 있도록 기반 마련해주세요조그만 예산 쓰는데도 번거로운 절차 거칠 필요가 있나 의문입니다'], ['엔지니어링', '\\n          현직원\\n      ', '서울', '2023. 08', '100%', '60%', '80%', '40%', '60%', '40%', '\\nBEST\\n      너무 좋은 복지 야근을 한다고 하면 근무시간에 자면서 일해도 용서되는 곳 창경궁 덕수궁 산책이 가능한 곳\\n    ', '세계적 수준의 복지와 글로벌 지향의 인재채용을 진행하고 있고 계속해서 미래 먹거리를 찾으로 노력하고 도전하는 회사 입사 이후 늘 성장만 해온 회사', '야근을 생산성의 지표로 생각하고 이를 능력으로 평가해주는 회사 학연과 지연을 많이 따지는 오래된 문화가 살아있는 곳 정치력이 곧 능력이 되기도 하는점 등 앞으로 사라져야 할 일제시대 문화들은 좀 바뀌어야 함', '현장에서 고생하는 직원들을 더 챙겨주고 미래 먹거리와 비전을 직원들에게 더 보야주길 바람'], ['생산관리/품질관리', '\\n          전직원\\n      ', '대구', '2023. 08', '60%', '40%', '60%', '60%', '60%', '40%', '\\nBEST\\n      안전보건 관련 경험을 쌓고 역량 키우기 좋음\\n    ', '1 건설업이다보니 급여 괜찮음. 2 안전보건 관련하여 자료가 많아 업무 경험을 쌓고 역량 키우기 좋음. 3 현장 바이 현장이지만 같이 일사는 사람들 좋았움. 4 본사에서 안전보건은 업무 지원 최대한 해주려함', '1 복지 대부분은 본사 사람들이 누리는 것 같음. 2 현장 근무자들을 무시하는 본사 분위기. 3 연봉 인상률이 너무 낮음. 4 불필요한 본사 보고 업무들이 있음', ' 현장에 실제적으로 적용될 수 있는 복지를 신경 써주세요.  계약직들 좀 신경 써주세요 현장에 90가 계약직입니다.    급여 정규직 전환 조직 적응 등'], ['엔지니어링', '\\n          전직원\\n      ', '서울', '2023. 08', '60%', '60%', '60%', '60%', '60%', '60%', '\\nBEST\\n      체계적이지만 보수적임 위 아래 수직구조가 확실하고 야근 많음\\n    ', '업무를 체계적으로 하고 수주를 굉장히 잘 따오는듯 했다', '위계질서가 확실하고 보수적이고 여직원은 승진 잘 안되는듯', '없습니다 따로 없습니다 바라는 점은 없는 것 같습니다아'], ['엔지니어링', '\\n          현직원\\n      ', '서울', '2023. 08', '80%', '80%', '60%', '100%', '60%', '60%', '\\nBEST\\n      그냥저냥 다닐만 합니다 겉은 대기업인데 내부는 중견기업 급입니다\\n    ', '문화가 나쁘진 않습니다 자율 출퇴근제 도입해서 근무도 유연한 편입니다', '연봉이 박살나있고 삼엔 삼물 대비 동일 직급 최소 1000이상 차이납니다', '플랜트 설계인력 귀한줄 알아야되는데 신경을 안쓰는거 같습니다'], ['엔지니어링', '\\n          현직원\\n      ', '경기', '2023. 08', '60%', '60%', '80%', '60%', '60%', '60%', '\\nBEST\\n      직원들의 영혼을 갈아가며 건물 만드는 회사  앞으로 발전해야 건설업계에서 살아 남을 수 있을 듯 합니다\\n    ', '대기업 건설사라는 자부심  패밀리데이 등 연월차 사용이 비교적 자유로움 숙소 지원 숙소물품 지원', '현장계약직 형태의 채용 불안정한 미래 전국구 해외현장으로의 발령', '계약직의 정규직 전환이나 무기계약직으로의 전환율을 올려주세요'], ['인사/총무', '\\n          전직원\\n      ', '서울', '2023. 08', '60%', '40%', '80%', '40%', '20%', '20%', '\\nBEST\\n      서울 cs팀에 있었는데 거기 고인물이 싸패임 직원들이 남아나질 않음 구인공고 자주 올라오는 데는 다 이유가 있음\\n    ', '복지혜택은 더러 있어서 살림에 보탬이 조금은 되겠으나 여느 대기업처럼 다 똑같음 연차 자유로움', '상하수직적인 분위기 고인물들 말을 잘 들어야 되는 곳임 자기업무분야를 구축할 수가 없음 시키는대로만 해야함', '제발 고인물들 제거하고 앞길 창창하고 일 잘하는 젊은 직원들 아니 안 젊어도 능력있는 직원들 일만 잘 할 수 있게 물갈이 좀 헤주셔']]\n",
      "          직무                       상황  지역       작성일    총점 승진 기회 및 가능성 복지 및 급여  \\\n",
      "0      금융/재무  \\n          전직원\\n        서울  2023. 09   60%         60%    100%   \n",
      "1      엔지니어링  \\n          현직원\\n        부산  2023. 09   60%         60%     60%   \n",
      "2      엔지니어링  \\n          전직원\\n        서울  2023. 09   80%         60%     60%   \n",
      "3      법률/법무  \\n          현직원\\n        서울  2023. 08   80%         60%     60%   \n",
      "4      엔지니어링  \\n          현직원\\n        서울  2023. 08  100%         60%     80%   \n",
      "5  생산관리/품질관리  \\n          전직원\\n        대구  2023. 08   60%         40%     60%   \n",
      "6      엔지니어링  \\n          전직원\\n        서울  2023. 08   60%         60%     60%   \n",
      "7      엔지니어링  \\n          현직원\\n        서울  2023. 08   80%         80%     60%   \n",
      "8      엔지니어링  \\n          현직원\\n        경기  2023. 08   60%         60%     80%   \n",
      "9      인사/총무  \\n          전직원\\n        서울  2023. 08   60%         40%     80%   \n",
      "\n",
      "  업무와 삶의 균형 사내문화  경영진                                                 총평  \\\n",
      "0       80%  60%  60%   \\nBEST\\n      한국에서 이정도면 괜찮은 회사인 편이라고 생각합니다\\n       \n",
      "1       40%  60%  40%  \\nBEST\\n      경력직이 너무 많은 회사 회사 고유의 색깔이 뚜렷하지 않아...   \n",
      "2       80%  80%  80%   \\nBEST\\n      좋은 회사라고 생각합니다 전반적으로 만족한 회사에요\\n       \n",
      "3      100%  60%  60%  \\nBEST\\n      대기업 건설사로 플랜트 주택 건축 사업 위주의 회사경력직이...   \n",
      "4       40%  60%  40%  \\nBEST\\n      너무 좋은 복지 야근을 한다고 하면 근무시간에 자면서 일해...   \n",
      "5       60%  60%  40%       \\nBEST\\n      안전보건 관련 경험을 쌓고 역량 키우기 좋음\\n       \n",
      "6       60%  60%  60%  \\nBEST\\n      체계적이지만 보수적임 위 아래 수직구조가 확실하고 야근 많...   \n",
      "7      100%  60%  60%  \\nBEST\\n      그냥저냥 다닐만 합니다 겉은 대기업인데 내부는 중견기업 급...   \n",
      "8       60%  60%  60%  \\nBEST\\n      직원들의 영혼을 갈아가며 건물 만드는 회사  앞으로 발전해...   \n",
      "9       40%  20%  20%  \\nBEST\\n      서울 cs팀에 있었는데 거기 고인물이 싸패임 직원들이 남아...   \n",
      "\n",
      "                                                  장점  \\\n",
      "0        서울 도심에 사무실 있는거 좋고 복지 괜찮고 사람들도 대체로 좋은 사람들 많음   \n",
      "1        경력직이 많아 소위 꼰대가 랜덤하게 있음 샌드위치 데이에는 단체 강제연차 사용   \n",
      "2  계약직이어서 복지는 거의 해당이 없었지만 그래도 대기업인 만큼 사람들도 괜찮고 분위...   \n",
      "3  현대 기아차 할인혜택 있음선택근무제 활용해서 주40시간만 채우면 늦게 출근하거나 빨...   \n",
      "4  세계적 수준의 복지와 글로벌 지향의 인재채용을 진행하고 있고 계속해서 미래 먹거리를...   \n",
      "5  1 건설업이다보니 급여 괜찮음. 2 안전보건 관련하여 자료가 많아 업무 경험을 쌓고...   \n",
      "6                     업무를 체계적으로 하고 수주를 굉장히 잘 따오는듯 했다   \n",
      "7             문화가 나쁘진 않습니다 자율 출퇴근제 도입해서 근무도 유연한 편입니다   \n",
      "8  대기업 건설사라는 자부심  패밀리데이 등 연월차 사용이 비교적 자유로움 숙소 지원 ...   \n",
      "9  복지혜택은 더러 있어서 살림에 보탬이 조금은 되겠으나 여느 대기업처럼 다 똑같음 연...   \n",
      "\n",
      "                                                  단점  \\\n",
      "0               바뀌려고 노력하고 있지만 여전히 딱딱하고 보수적인 분위기가 답답함   \n",
      "1       경력직이 너무 많음 회사 고유의 색깔이 부족함 그래서 현장마다 스타일이 다 다름   \n",
      "2          급여가 좀 적고 남녀성비가 안맞는게 단점이라면 단점이지만 나랑은 잘 맞았음   \n",
      "3  예산 사용이 어려워서 재경쪽 눈치를 많이 보게 되는듯상여금이 적은 편이고 특별한 복...   \n",
      "4  야근을 생산성의 지표로 생각하고 이를 능력으로 평가해주는 회사 학연과 지연을 많이 ...   \n",
      "5  1 복지 대부분은 본사 사람들이 누리는 것 같음. 2 현장 근무자들을 무시하는 본사...   \n",
      "6                    위계질서가 확실하고 보수적이고 여직원은 승진 잘 안되는듯   \n",
      "7           연봉이 박살나있고 삼엔 삼물 대비 동일 직급 최소 1000이상 차이납니다   \n",
      "8                현장계약직 형태의 채용 불안정한 미래 전국구 해외현장으로의 발령   \n",
      "9  상하수직적인 분위기 고인물들 말을 잘 들어야 되는 곳임 자기업무분야를 구축할 수가 ...   \n",
      "\n",
      "                                                바라는점  \n",
      "0          권위적이고 수직적인 분위기를 타파하는것이 회사 발전에 도움이 될것 같습니다  \n",
      "1  경력직 많이 넣는것도 좋지만 회사의 색깔을 잃어버리지 않을려면 최소 현엔 시스템에대...  \n",
      "2                바라는 점은 딱히 없습니다 좋은 분위기를 가지고 있다고 생각해요  \n",
      "3  합리적인 복지 보상체계가 필요합니다직원들이 마음껏 일할 수 있도록 기반 마련해주세요...  \n",
      "4  현장에서 고생하는 직원들을 더 챙겨주고 미래 먹거리와 비전을 직원들에게 더 보야주길 바람  \n",
      "5   현장에 실제적으로 적용될 수 있는 복지를 신경 써주세요.  계약직들 좀 신경 써주...  \n",
      "6                     없습니다 따로 없습니다 바라는 점은 없는 것 같습니다아  \n",
      "7                  플랜트 설계인력 귀한줄 알아야되는데 신경을 안쓰는거 같습니다  \n",
      "8                  계약직의 정규직 전환이나 무기계약직으로의 전환율을 올려주세요  \n",
      "9  제발 고인물들 제거하고 앞길 창창하고 일 잘하는 젊은 직원들 아니 안 젊어도 능력있...  \n"
     ]
    }
   ],
   "source": [
    "import requests\n",
    "from bs4 import BeautifulSoup\n",
    "import pandas as pd\n",
    "import re\n",
    "\n",
    "login_url = 'https://www.jobplanet.co.kr/users/sign_in'\n",
    "\n",
    "#email 본인 아이디, password 본인 패스워드 입력 단, 리뷰를 남겨서 전체 접근이 가능한 상태여야함\n",
    "email = 'wondh07@naver.com'\n",
    "password = 'xxxx'\n",
    "\n",
    "\n",
    "LOGIN_INFO ={\n",
    "    'user[email]' : email,\n",
    "    'user[password]' : password,\n",
    "    'commit' : '로그인'\n",
    "}\n",
    "\n",
    "session = requests.session()\n",
    "\n",
    "res = session.post(login_url, data = LOGIN_INFO, verify = False)\n",
    "\n",
    "res\n",
    "\n",
    "res.raise_for_status()\n",
    "result = []\n",
    "\n",
    "\n",
    "def clean_str(text):\n",
    "    pattern = '([ㄱ-ㅎㅏ-ㅣ]+)'  # 한글 자음, 모음 제거\n",
    "    text = re.sub(pattern=pattern, repl='', string=text)\n",
    "    pattern = '<[^>]*>'         # HTML 태그 제거\n",
    "    text = re.sub(pattern=pattern, repl='', string=text)\n",
    "    pattern = '[^\\w\\s]'         # 특수기호제거\n",
    "    text = re.sub(pattern=pattern, repl='', string=text)\n",
    "    text = text.replace('\\r','. ')\n",
    "    return text\n",
    "\n",
    "#url 은 보고싶은 기업의 리뷰 URL 이며 마지막은 ?page= 형태로 해야함, last_page는 해당 기업 리뷰의 마지막 페이지 입력\n",
    "last_page = 3\n",
    "for idx in range(1,last_page):\n",
    "    url = 'https://www.jobplanet.co.kr/companies/1322/reviews/현대엔지니어링?page='+str(idx)\n",
    "\n",
    "    res = session.get(url)\n",
    "    res.raise_for_status()\n",
    "\n",
    "    soup = BeautifulSoup(res.text, 'html.parser')\n",
    "\n",
    "    count3 = 0\n",
    "    count4 = 0\n",
    "    count5 = 0\n",
    "\n",
    "    try:\n",
    "        for k in range(5):\n",
    "            reviewer_info = []\n",
    "            # 응답자 정보\n",
    "            position = soup.select('.content_top_ty2 > span.txt1')[0 + count4].text\n",
    "            status = soup.select('.content_top_ty2 > span.txt1')[1 + count4].text\n",
    "            loc = soup.select('.content_top_ty2 > span.txt1')[2 + count4].text\n",
    "\n",
    "            day = soup.select('.content_top_ty2 > span.txt1')[3+ count4].text\n",
    "\n",
    "            # 점\n",
    "            star_rating = soup.select('.us_star_m > div.star_score')[0+k]['style'][6:-1]\n",
    "\n",
    "            # rating 5*5\n",
    "            promotion = soup.select('.bl_score')[0 + count5]['style'][6:-1]\n",
    "            welfare = soup.select('.bl_score')[1 + count5]['style'][6:-1]\n",
    "            balance = soup.select('.bl_score')[2 + count5]['style'][6:-1]\n",
    "            culture = soup.select('.bl_score')[3 + count5]['style'][6:-1]\n",
    "            top = soup.select('.bl_score')[4 + count5]['style'][6:-1]\n",
    "            # 중심 제목\n",
    "            content = soup.select('h2.us_label')[0+k].text\n",
    "            # 장단점 경영진 의견\n",
    "            merit = soup.select('dl.tc_list > dd.df1 > span')[0 + count3].text\n",
    "            disadvantages = soup.select('dl.tc_list > dd.df1 > span')[1 + count3].text\n",
    "            df_tit = soup.select('dl.tc_list > dd.df1 > span')[2 + count3].text\n",
    "\n",
    "\n",
    "            reviewer_info = [position, status, loc, day, star_rating, promotion, welfare, balance, culture, top,clean_str(content),clean_str(merit),clean_str(disadvantages), clean_str(df_tit)]\n",
    "\n",
    "            result.append(reviewer_info)\n",
    "            reviewer_info=[]\n",
    "            count3 += 3\n",
    "            count4 += 4\n",
    "            count5 += 5\n",
    "            print(\"pass :\"+str(idx)+\"-\"+str(k))\n",
    "    except :\n",
    "        print(\"fail :\" + str(idx))\n",
    "        pass\n",
    "\n",
    "colname = ['직무','상황','지역','작성일','총점','승진 기회 및 가능성','복지 및 급여','업무와 삶의 균형','사내문화','경영진','총평','장점','단점','바라는점']\n",
    "df = pd.DataFrame(result,columns=colname)\n",
    "#저장을 희망하는 파일명으로 저장\n",
    "#df.to_excel(\"jobplanet_기업명.xlsx\")\n",
    "\n",
    "\n",
    "print(result)\n",
    "\n",
    "print(df)\n",
    "\n"
   ]
  },
  {
   "cell_type": "code",
   "execution_count": 10,
   "metadata": {
    "colab": {
     "base_uri": "https://localhost:8080/",
     "height": 17
    },
    "id": "eWDChdyNnl0J",
    "outputId": "b26cb093-3bce-48f0-e3fd-1d0eac12b900"
   },
   "outputs": [
    {
     "data": {
      "application/javascript": [
       "\n",
       "    async function download(id, filename, size) {\n",
       "      if (!google.colab.kernel.accessAllowed) {\n",
       "        return;\n",
       "      }\n",
       "      const div = document.createElement('div');\n",
       "      const label = document.createElement('label');\n",
       "      label.textContent = `Downloading \"${filename}\": `;\n",
       "      div.appendChild(label);\n",
       "      const progress = document.createElement('progress');\n",
       "      progress.max = size;\n",
       "      div.appendChild(progress);\n",
       "      document.body.appendChild(div);\n",
       "\n",
       "      const buffers = [];\n",
       "      let downloaded = 0;\n",
       "\n",
       "      const channel = await google.colab.kernel.comms.open(id);\n",
       "      // Send a message to notify the kernel that we're ready.\n",
       "      channel.send({})\n",
       "\n",
       "      for await (const message of channel.messages) {\n",
       "        // Send a message to notify the kernel that we're ready.\n",
       "        channel.send({})\n",
       "        if (message.buffers) {\n",
       "          for (const buffer of message.buffers) {\n",
       "            buffers.push(buffer);\n",
       "            downloaded += buffer.byteLength;\n",
       "            progress.value = downloaded;\n",
       "          }\n",
       "        }\n",
       "      }\n",
       "      const blob = new Blob(buffers, {type: 'application/binary'});\n",
       "      const a = document.createElement('a');\n",
       "      a.href = window.URL.createObjectURL(blob);\n",
       "      a.download = filename;\n",
       "      div.appendChild(a);\n",
       "      a.click();\n",
       "      div.remove();\n",
       "    }\n",
       "  "
      ],
      "text/plain": [
       "<IPython.core.display.Javascript object>"
      ]
     },
     "metadata": {},
     "output_type": "display_data"
    },
    {
     "data": {
      "application/javascript": [
       "download(\"download_31847b93-662e-4521-8342-b781193417a8\", \"SaveCSV2.csv\", 6418)"
      ],
      "text/plain": [
       "<IPython.core.display.Javascript object>"
      ]
     },
     "metadata": {},
     "output_type": "display_data"
    }
   ],
   "source": [
    "df.to_csv('SaveCSV2.csv', encoding='utf-8-sig',index=False, header=False)\n",
    "\n",
    "from google.colab import files\n",
    "\n",
    "files.download('SaveCSV2.csv')"
   ]
  }
 ],
 "metadata": {
  "colab": {
   "provenance": []
  },
  "kernelspec": {
   "display_name": "Python 3 (ipykernel)",
   "language": "python",
   "name": "python3"
  },
  "language_info": {
   "codemirror_mode": {
    "name": "ipython",
    "version": 3
   },
   "file_extension": ".py",
   "mimetype": "text/x-python",
   "name": "python",
   "nbconvert_exporter": "python",
   "pygments_lexer": "ipython3",
   "version": "3.11.4"
  }
 },
 "nbformat": 4,
 "nbformat_minor": 1
}
