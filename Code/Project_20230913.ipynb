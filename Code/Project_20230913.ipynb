{
  "nbformat": 4,
  "nbformat_minor": 0,
  "metadata": {
    "colab": {
      "provenance": [],
      "toc_visible": true
    },
    "kernelspec": {
      "name": "python3",
      "display_name": "Python 3"
    },
    "language_info": {
      "name": "python"
    }
  },
  "cells": [
    {
      "cell_type": "code",
      "source": [
        "from google.colab import drive\n",
        "drive.mount('/content/drive')"
      ],
      "metadata": {
        "colab": {
          "base_uri": "https://localhost:8080/"
        },
        "id": "OAbhL9QIvurS",
        "outputId": "4be8f89e-95fe-40e0-b322-89af3525edaa"
      },
      "execution_count": null,
      "outputs": [
        {
          "output_type": "stream",
          "name": "stdout",
          "text": [
            "Drive already mounted at /content/drive; to attempt to forcibly remount, call drive.mount(\"/content/drive\", force_remount=True).\n"
          ]
        }
      ]
    },
    {
      "cell_type": "code",
      "source": [
        "pip install OpenDartReader"
      ],
      "metadata": {
        "colab": {
          "base_uri": "https://localhost:8080/"
        },
        "id": "EODrZKkU4KrV",
        "outputId": "bb8ecf93-a094-4249-9692-175443e579ac"
      },
      "execution_count": null,
      "outputs": [
        {
          "output_type": "stream",
          "name": "stdout",
          "text": [
            "Collecting OpenDartReader\n",
            "  Downloading OpenDartReader-0.2.3-py3-none-any.whl (27 kB)\n",
            "Requirement already satisfied: pandas>=0.19.2 in /usr/local/lib/python3.10/dist-packages (from OpenDartReader) (1.5.3)\n",
            "Requirement already satisfied: requests>=2.3.0 in /usr/local/lib/python3.10/dist-packages (from OpenDartReader) (2.31.0)\n",
            "Collecting requests-file (from OpenDartReader)\n",
            "  Downloading requests_file-1.5.1-py2.py3-none-any.whl (3.7 kB)\n",
            "Requirement already satisfied: lxml in /usr/local/lib/python3.10/dist-packages (from OpenDartReader) (4.9.3)\n",
            "Requirement already satisfied: beautifulsoup4 in /usr/local/lib/python3.10/dist-packages (from OpenDartReader) (4.11.2)\n",
            "Requirement already satisfied: python-dateutil>=2.8.1 in /usr/local/lib/python3.10/dist-packages (from pandas>=0.19.2->OpenDartReader) (2.8.2)\n",
            "Requirement already satisfied: pytz>=2020.1 in /usr/local/lib/python3.10/dist-packages (from pandas>=0.19.2->OpenDartReader) (2023.3.post1)\n",
            "Requirement already satisfied: numpy>=1.21.0 in /usr/local/lib/python3.10/dist-packages (from pandas>=0.19.2->OpenDartReader) (1.23.5)\n",
            "Requirement already satisfied: charset-normalizer<4,>=2 in /usr/local/lib/python3.10/dist-packages (from requests>=2.3.0->OpenDartReader) (3.2.0)\n",
            "Requirement already satisfied: idna<4,>=2.5 in /usr/local/lib/python3.10/dist-packages (from requests>=2.3.0->OpenDartReader) (3.4)\n",
            "Requirement already satisfied: urllib3<3,>=1.21.1 in /usr/local/lib/python3.10/dist-packages (from requests>=2.3.0->OpenDartReader) (2.0.4)\n",
            "Requirement already satisfied: certifi>=2017.4.17 in /usr/local/lib/python3.10/dist-packages (from requests>=2.3.0->OpenDartReader) (2023.7.22)\n",
            "Requirement already satisfied: soupsieve>1.2 in /usr/local/lib/python3.10/dist-packages (from beautifulsoup4->OpenDartReader) (2.5)\n",
            "Requirement already satisfied: six in /usr/local/lib/python3.10/dist-packages (from requests-file->OpenDartReader) (1.16.0)\n",
            "Installing collected packages: requests-file, OpenDartReader\n",
            "Successfully installed OpenDartReader-0.2.3 requests-file-1.5.1\n"
          ]
        }
      ]
    },
    {
      "cell_type": "code",
      "execution_count": null,
      "metadata": {
        "colab": {
          "base_uri": "https://localhost:8080/"
        },
        "id": "xJXrOnGvvf0G",
        "outputId": "5501c1e2-e02e-4993-87ce-f28d98103bf1"
      },
      "outputs": [
        {
          "output_type": "stream",
          "name": "stdout",
          "text": [
            "reprt_code='11013', fs_div='CFS' (1분기보고서, 연결제무제표)'\n",
            "           rcept_no reprt_code bsns_year corp_code sj_div  sj_nm  \\\n",
            "0    20160516002710      11013      2016  00401731     BS  재무상태표   \n",
            "1    20160516002710      11013      2016  00401731     BS  재무상태표   \n",
            "2    20160516002710      11013      2016  00401731     BS  재무상태표   \n",
            "3    20160516002710      11013      2016  00401731     BS  재무상태표   \n",
            "4    20160516002710      11013      2016  00401731     BS  재무상태표   \n",
            "..              ...        ...       ...       ...    ...    ...   \n",
            "202  20160516002710      11013      2016  00401731    SCE  자본변동표   \n",
            "203  20160516002710      11013      2016  00401731    SCE  자본변동표   \n",
            "204  20160516002710      11013      2016  00401731    SCE  자본변동표   \n",
            "205  20160516002710      11013      2016  00401731    SCE  자본변동표   \n",
            "206  20160516002710      11013      2016  00401731    SCE  자본변동표   \n",
            "\n",
            "                               account_id account_nm  \\\n",
            "0                      ifrs_CurrentAssets       유동자산   \n",
            "1             ifrs_CashAndCashEquivalents   현금및현금성자산   \n",
            "2                            -표준계정코드 미사용-    금융기관예치금   \n",
            "3    ifrs_TradeAndOtherCurrentReceivables       매출채권   \n",
            "4                            -표준계정코드 미사용-     기타수취채권   \n",
            "..                                    ...        ...   \n",
            "202                           ifrs_Equity       기말자본   \n",
            "203                           ifrs_Equity       기말자본   \n",
            "204                           ifrs_Equity       기말자본   \n",
            "205                           ifrs_Equity       기말자본   \n",
            "206                           ifrs_Equity       기말자본   \n",
            "\n",
            "                                        account_detail    thstrm_nm  ...  \\\n",
            "0                                                    -  제 15 기 1분기말  ...   \n",
            "1                                                    -  제 15 기 1분기말  ...   \n",
            "2                                                    -  제 15 기 1분기말  ...   \n",
            "3                                                    -  제 15 기 1분기말  ...   \n",
            "4                                                    -  제 15 기 1분기말  ...   \n",
            "..                                                 ...          ...  ...   \n",
            "202           자본 [member]|지배기업의 소유주에게 귀속되는 자본 [member]   제 15 기 1분기  ...   \n",
            "203  자본 [member]|지배기업의 소유주에게 귀속되는 자본 [member]|기타자본구성요소   제 15 기 1분기  ...   \n",
            "204  자본 [member]|지배기업의 소유주에게 귀속되는 자본 [member]|기타포괄손...   제 15 기 1분기  ...   \n",
            "205      자본 [member]|지배기업의 소유주에게 귀속되는 자본 [member]|납입자본   제 15 기 1분기  ...   \n",
            "206     자본 [member]|지배기업의 소유주에게 귀속되는 자본 [member]|이익잉여금   제 15 기 1분기  ...   \n",
            "\n",
            "    frmtrm_nm   frmtrm_amount bfefrmtrm_nm bfefrmtrm_amount ord currency  \\\n",
            "0     제 14 기말  16397613000000      제 13 기말   17482698000000   1      KRW   \n",
            "1     제 14 기말   2710156000000      제 13 기말    2244406000000   2      KRW   \n",
            "2     제 14 기말     87454000000      제 13 기말      67700000000  15      KRW   \n",
            "3     제 14 기말   7093352000000      제 13 기말    7683915000000  16      KRW   \n",
            "4     제 14 기말    654141000000      제 13 기말     633219000000  31      KRW   \n",
            "..        ...             ...          ...              ...  ..      ...   \n",
            "202    제 14 기  11626572000000       제 13 기   11719423000000  25      KRW   \n",
            "203    제 14 기   -210343000000       제 13 기    -210412000000  25      KRW   \n",
            "204    제 14 기  -1171979000000       제 13 기   -1143557000000  25      KRW   \n",
            "205    제 14 기   3992348000000       제 13 기    3992348000000  25      KRW   \n",
            "206    제 14 기   9016546000000       제 13 기    9081044000000  25      KRW   \n",
            "\n",
            "    thstrm_add_amount frmtrm_q_nm frmtrm_q_amount frmtrm_add_amount  \n",
            "0                 NaN         NaN             NaN               NaN  \n",
            "1                 NaN         NaN             NaN               NaN  \n",
            "2                 NaN         NaN             NaN               NaN  \n",
            "3                 NaN         NaN             NaN               NaN  \n",
            "4                 NaN         NaN             NaN               NaN  \n",
            "..                ...         ...             ...               ...  \n",
            "202               NaN  제 14 기 1분기  11455909000000               NaN  \n",
            "203               NaN  제 14 기 1분기   -210412000000               NaN  \n",
            "204               NaN  제 14 기 1분기  -1250105000000               NaN  \n",
            "205               NaN  제 14 기 1분기   3992348000000               NaN  \n",
            "206               NaN  제 14 기 1분기   8924078000000               NaN  \n",
            "\n",
            "[207 rows x 21 columns]\n"
          ]
        },
        {
          "output_type": "stream",
          "name": "stderr",
          "text": [
            "<ipython-input-13-9de42dbaaee3>:10: FutureWarning: The frame.append method is deprecated and will be removed from pandas in a future version. Use pandas.concat instead.\n",
            "  df1 = df1.append(dart.finstate_all(stock_name, 2016, reprt_code='11013', fs_div='CFS'))\n"
          ]
        }
      ],
      "source": [
        "import OpenDartReader\n",
        "import pandas as pd\n",
        "\n",
        "api_key = 'e81e10a7e5267be70f67c42da4dd3b06a69abd48' # API Key 입력\n",
        "\n",
        "stock_name = 'LG전자'\n",
        "dart = OpenDartReader(api_key)\n",
        "df1 = pd.DataFrame()\n",
        "# LG전자 2016년의 1분기보고서 전체항목 불러오기\n",
        "df1 = df1.append(dart.finstate_all(stock_name, 2016, reprt_code='11013', fs_div='CFS'))\n",
        "print(df1) # 결과를 터미널에 보여준다.\n",
        "\n",
        "# to_excel() 시, 파일 경로까지 함께 넣어주면 더 관리하기 좋다.\n",
        "#fileName = 'C:/Projects/result_LG전자.xlsx'\n",
        "\n",
        "#df1.to_excel(excel_writer=fileName)\n"
      ]
    },
    {
      "cell_type": "code",
      "source": [
        "import OpenDartReader\n",
        "import pandas as pd\n",
        "import time\n",
        "\n",
        "api_key = '59f17375e15ffafc9798fdae76fe437a382736c9' # OpenDart API 에서 받는 KEY 입력\n",
        "\n",
        "# 얻고자 하는 종목명 리스트 형태로 입력\n",
        "stock_names = ['삼성전자', 'LG전자', '현대자동차']\n",
        "dart = OpenDartReader(api_key)\n",
        "\n",
        "# 데이터 초기화. df2 는 정리된 데이터를 모으는 곳이며 얻고자 하는 데이터 이름을\n",
        "# column 화 시킴.  빈 index 를 넣으면 추가가 안되므로 임으로 하나 넣자.\n",
        "df2 = pd.DataFrame(columns=['유동자산', '부채총계', '자본총계', '매출액', '매출총이익', '영업이익',\n",
        "                      '당기순이익', '영업활동현금흐름', '잉여현금흐름'], index=['1900-01-01'])\n",
        "\n",
        "# '11013'=1분기보고서, '11012' =반기보고서, '11014'=3분기보고서, '11011'=사업보고서\n",
        "reprt_code = ['11013', '11012', '11014', '11011']\n",
        "\n",
        "# 데이터를 얻기위한 반복문 시작\n",
        "for stocks in stock_names:\n",
        "    # 정리 완료된 파일 저장하기 위한 경로 및 이름. result_종목이름.xlsx 형태로 저장된다.\n",
        "    fileName = f'C:/Projects/stocks_sorting/data/result_{str(stocks)}.xlsx'\n",
        "    for i in range(2015, 2022): # OpenDart는 2015년부터 정보를 제공한다.\n",
        "\n",
        "        # 더미 리스트 초기화. 1 ~ 4 분기 데이터를 합할 예정이므로 4 크기 만큼의 리스트 선언.\n",
        "        current_assets = [0, 0, 0, 0] # 유동자산\n",
        "        liabilities = [0, 0, 0, 0] # 부채총계\n",
        "        equity = [0, 0, 0, 0] # 자본총계\n",
        "        revenue = [0, 0, 0, 0] # 매출액\n",
        "        grossProfit = [0, 0, 0, 0] # 매출총이익\n",
        "        income = [0, 0, 0, 0] # 영업이익\n",
        "        net_income = [0, 0, 0, 0] # 당기순이익\n",
        "        cfo = [0, 0, 0, 0] # 영업활동현금흐름\n",
        "        cfi = [0, 0, 0, 0] # 투자활동현금흐름\n",
        "        fcf = [0, 0, 0, 0] # 잉여현금흐름 : 편의상 영업활동 - 투자활동 현금흐름으로 계산\n",
        "\n",
        "        for j, k in enumerate(reprt_code):\n",
        "            df1 = pd.DataFrame() # Raw Data\n",
        "            if str(type(dart.finstate_all('004840', i, reprt_code=k, fs_div='CFS'))) == \"<class 'NoneType'>\":\n",
        "                pass\n",
        "\n",
        "            # 타입이 NoneType 이 아니면 읽어온다.\n",
        "            else:\n",
        "                df1 = df1.append(dart.finstate_all(stock_name, i, reprt_code=k, fs_div='CFS'))\n",
        "                # 재무상태표 부분\n",
        "                condition = (df1.sj_nm == '재무상태표') & (df1.account_nm == '유동자산') # 유동자산\n",
        "                condition_2 = (df1.sj_nm == '재무상태표') & (df1.account_nm == '부채총계') # 부채총계\n",
        "                condition_3 = (df1.sj_nm == '재무상태표') & \\\n",
        "                            ((df1.account_nm == '자본총계') | (df1.account_nm == '반기말자본') | (df1.account_nm == '3분기말자본') | (df1.account_nm == '분기말자본') | (df1.account_nm == '1분기말자본'))  #자본총계\n",
        "                # 손익계산서 부분\n",
        "                condition_4 = ((df1.sj_nm == '손익계산서') | (df1.sj_nm == '포괄손익계산서')) & ((df1.account_nm == '매출액') | (df1.account_nm == '수익(매출액)'))\n",
        "                condition_5 = ((df1.sj_nm == '손익계산서') | (df1.sj_nm == '포괄손익계산서')) & (df1.account_nm == '매출총이익')\n",
        "                condition_6 = ((df1.sj_nm == '손익계산서') | (df1.sj_nm == '포괄손익계산서')) & \\\n",
        "                                ((df1.account_nm == '영업이익(손실)') | (df1.account_nm == '영업이익'))\n",
        "                condition_7 = ((df1.sj_nm == '손익계산서') | (df1.sj_nm == '포괄손익계산서')) & \\\n",
        "                                ((df1.account_nm == '당기순이익(손실)') | (df1.account_nm == '당기순이익') | \\\n",
        "                                (df1.account_nm == '분기순이익') | (df1.account_nm == '분기순이익(손실)') | (df1.account_nm == '반기순이익') | (df1.account_nm == '반기순이익(손실)') | \\\n",
        "                                (df1.account_nm == '연결분기순이익') | (df1.account_nm == '연결반기순이익')| (df1.account_nm == '연결당기순이익')|(df1.account_nm == '연결분기(당기)순이익')|(df1.account_nm == '연결반기(당기)순이익')|\\\n",
        "                                (df1.account_nm == '연결분기순이익(손실)'))\n",
        "                # 현금흐름표 부분\n",
        "                condition_8 = (df1.sj_nm == '현금흐름표') & ((df1.account_nm == '영업활동으로 인한 현금흐름') | (df1.account_nm == '영업활동 현금흐름'))\n",
        "                condition_9 = (df1.sj_nm == '현금흐름표') & ((df1.account_nm == '투자활동으로 인한 현금흐름') | (df1.account_nm == '영업활동 현금흐름'))\n",
        "\n",
        "                current_assets[j] = int(df1.loc[condition].iloc[0]['thstrm_amount'])\n",
        "                liabilities[j] = int(df1.loc[condition_2].iloc[0]['thstrm_amount'])\n",
        "                equity[j] = int(df1.loc[condition_3].iloc[0]['thstrm_amount'])\n",
        "                revenue[j] = int(df1.loc[condition_4].iloc[0]['thstrm_amount'])\n",
        "                grossProfit[j] = int(df1.loc[condition_5].iloc[0]['thstrm_amount'])\n",
        "                income[j] = int(df1.loc[condition_6].iloc[0]['thstrm_amount'])\n",
        "                net_income[j] = int(df1.loc[condition_7].iloc[0]['thstrm_amount'])\n",
        "                cfo[j] = int(df1.loc[condition_8].iloc[0]['thstrm_amount'])\n",
        "                cfi[j] = int(df1.loc[condition_9].iloc[0]['thstrm_amount'])\n",
        "                fcf[j] = (cfo[j] - cfi[j])\n",
        "\n",
        "                if k == '11013': # 1분기.\n",
        "                    path_string = str(i) + '-03-31'\n",
        "                elif k == '11012': # 2분기\n",
        "                    path_string = str(i) + '-06-30'\n",
        "                elif k == '11014': # 3분기\n",
        "                    path_string = str(i) + '-09-30'\n",
        "                else: # 4분기. 1 ~ 3분기 데이터를 더한다음 사업보고서에서 빼야 함\n",
        "                    path_string = str(i) + '-12-30'\n",
        "                    revenue[j] = revenue[j] - (revenue[0] + revenue[1] + revenue[2])\n",
        "                    grossProfit[j] = grossProfit[j] - (grossProfit[0] + grossProfit[1] + grossProfit[2])\n",
        "                    income[j] = income[j] - (income[0] + income[1] + income[2])\n",
        "                    net_income[j] = net_income[j] - (net_income[0] + net_income[1] + net_income[2])\n",
        "                    fcf[j] = fcf[j] - (fcf[0] + fcf[1] + fcf[2])\n",
        "\n",
        "                # 데이터프레임에 저장하는 부분\n",
        "                df2.loc[path_string] = [current_assets[j], liabilities[j], equity[j],\n",
        "                                    revenue[j], grossProfit[j], income[j], net_income[j], cfo[j], fcf[j]]\n",
        "                df2.tail() # 데이터프레임 끝에 저장한다.\n",
        "            # 너무 잦은 요청이 있을 경우 OpenDart API 측에서 IP 를 차단하니 텀을 둔다.\n",
        "            time.sleep(0.1)\n",
        "\n",
        "    # 원본 dataframe 에도 영향을 끼치게끔 (inplace=True) 첫 행 drop.\n",
        "    df2.drop(['1900-01-01'], inplace=True) # 첫 행 drop\n",
        "\n",
        "    # 파일 저장. fileName 에 명시된 경로에 각 종목코드별로 다른 이름으로 저장\n",
        "    df2.to_excel(fileName)\n",
        "\n",
        "    # 그 다음 종목의 데이터를 얻기 위해 df2 재초기화\n",
        "    df2 = pd.DataFrame(columns=['유동자산', '부채총계', '자본총계', '매출액', '매출총이익', '영업이익',\n",
        "                            '당기순이익', '영업활동현금흐름', '잉여현금흐름'], index=['1900-01-01']) # 정리된 Data. 빈 index 를 넣으면 추가가 안되므로 하나 넣자.\n"
      ],
      "metadata": {
        "colab": {
          "base_uri": "https://localhost:8080/",
          "height": 533
        },
        "id": "GDz_ApoKvicu",
        "outputId": "1dba4fa3-9007-4e7c-c576-89754eff61d0"
      },
      "execution_count": null,
      "outputs": [
        {
          "output_type": "stream",
          "name": "stdout",
          "text": [
            "reprt_code='11013', fs_div='CFS' (1분기보고서, 연결제무제표)'\n",
            "{'status': '013', 'message': '조회된 데이타가 없습니다.'}\n",
            "\n",
            "reprt_code='11013', fs_div='CFS' (1분기보고서, 연결제무제표)'\n",
            "{'status': '013', 'message': '조회된 데이타가 없습니다.'}\n",
            "\n"
          ]
        },
        {
          "output_type": "stream",
          "name": "stderr",
          "text": [
            "<ipython-input-14-17acc61683df>:44: FutureWarning: The frame.append method is deprecated and will be removed from pandas in a future version. Use pandas.concat instead.\n",
            "  df1 = df1.append(dart.finstate_all(stock_name, i, reprt_code=k, fs_div='CFS'))\n"
          ]
        },
        {
          "output_type": "error",
          "ename": "AttributeError",
          "evalue": "ignored",
          "traceback": [
            "\u001b[0;31m---------------------------------------------------------------------------\u001b[0m",
            "\u001b[0;31mAttributeError\u001b[0m                            Traceback (most recent call last)",
            "\u001b[0;32m<ipython-input-14-17acc61683df>\u001b[0m in \u001b[0;36m<cell line: 20>\u001b[0;34m()\u001b[0m\n\u001b[1;32m     44\u001b[0m                 \u001b[0mdf1\u001b[0m \u001b[0;34m=\u001b[0m \u001b[0mdf1\u001b[0m\u001b[0;34m.\u001b[0m\u001b[0mappend\u001b[0m\u001b[0;34m(\u001b[0m\u001b[0mdart\u001b[0m\u001b[0;34m.\u001b[0m\u001b[0mfinstate_all\u001b[0m\u001b[0;34m(\u001b[0m\u001b[0mstock_name\u001b[0m\u001b[0;34m,\u001b[0m \u001b[0mi\u001b[0m\u001b[0;34m,\u001b[0m \u001b[0mreprt_code\u001b[0m\u001b[0;34m=\u001b[0m\u001b[0mk\u001b[0m\u001b[0;34m,\u001b[0m \u001b[0mfs_div\u001b[0m\u001b[0;34m=\u001b[0m\u001b[0;34m'CFS'\u001b[0m\u001b[0;34m)\u001b[0m\u001b[0;34m)\u001b[0m\u001b[0;34m\u001b[0m\u001b[0;34m\u001b[0m\u001b[0m\n\u001b[1;32m     45\u001b[0m                 \u001b[0;31m# 재무상태표 부분\u001b[0m\u001b[0;34m\u001b[0m\u001b[0;34m\u001b[0m\u001b[0m\n\u001b[0;32m---> 46\u001b[0;31m                 \u001b[0mcondition\u001b[0m \u001b[0;34m=\u001b[0m \u001b[0;34m(\u001b[0m\u001b[0mdf1\u001b[0m\u001b[0;34m.\u001b[0m\u001b[0msj_nm\u001b[0m \u001b[0;34m==\u001b[0m \u001b[0;34m'재무상태표'\u001b[0m\u001b[0;34m)\u001b[0m \u001b[0;34m&\u001b[0m \u001b[0;34m(\u001b[0m\u001b[0mdf1\u001b[0m\u001b[0;34m.\u001b[0m\u001b[0maccount_nm\u001b[0m \u001b[0;34m==\u001b[0m \u001b[0;34m'유동자산'\u001b[0m\u001b[0;34m)\u001b[0m \u001b[0;31m# 유동자산\u001b[0m\u001b[0;34m\u001b[0m\u001b[0;34m\u001b[0m\u001b[0m\n\u001b[0m\u001b[1;32m     47\u001b[0m                 \u001b[0mcondition_2\u001b[0m \u001b[0;34m=\u001b[0m \u001b[0;34m(\u001b[0m\u001b[0mdf1\u001b[0m\u001b[0;34m.\u001b[0m\u001b[0msj_nm\u001b[0m \u001b[0;34m==\u001b[0m \u001b[0;34m'재무상태표'\u001b[0m\u001b[0;34m)\u001b[0m \u001b[0;34m&\u001b[0m \u001b[0;34m(\u001b[0m\u001b[0mdf1\u001b[0m\u001b[0;34m.\u001b[0m\u001b[0maccount_nm\u001b[0m \u001b[0;34m==\u001b[0m \u001b[0;34m'부채총계'\u001b[0m\u001b[0;34m)\u001b[0m \u001b[0;31m# 부채총계\u001b[0m\u001b[0;34m\u001b[0m\u001b[0;34m\u001b[0m\u001b[0m\n\u001b[1;32m     48\u001b[0m                 \u001b[0mcondition_3\u001b[0m \u001b[0;34m=\u001b[0m \u001b[0;34m(\u001b[0m\u001b[0mdf1\u001b[0m\u001b[0;34m.\u001b[0m\u001b[0msj_nm\u001b[0m \u001b[0;34m==\u001b[0m \u001b[0;34m'재무상태표'\u001b[0m\u001b[0;34m)\u001b[0m \u001b[0;34m&\u001b[0m\u001b[0;31m \u001b[0m\u001b[0;31m\\\u001b[0m\u001b[0;34m\u001b[0m\u001b[0;34m\u001b[0m\u001b[0m\n",
            "\u001b[0;32m/usr/local/lib/python3.10/dist-packages/pandas/core/generic.py\u001b[0m in \u001b[0;36m__getattr__\u001b[0;34m(self, name)\u001b[0m\n\u001b[1;32m   5900\u001b[0m         ):\n\u001b[1;32m   5901\u001b[0m             \u001b[0;32mreturn\u001b[0m \u001b[0mself\u001b[0m\u001b[0;34m[\u001b[0m\u001b[0mname\u001b[0m\u001b[0;34m]\u001b[0m\u001b[0;34m\u001b[0m\u001b[0;34m\u001b[0m\u001b[0m\n\u001b[0;32m-> 5902\u001b[0;31m         \u001b[0;32mreturn\u001b[0m \u001b[0mobject\u001b[0m\u001b[0;34m.\u001b[0m\u001b[0m__getattribute__\u001b[0m\u001b[0;34m(\u001b[0m\u001b[0mself\u001b[0m\u001b[0;34m,\u001b[0m \u001b[0mname\u001b[0m\u001b[0;34m)\u001b[0m\u001b[0;34m\u001b[0m\u001b[0;34m\u001b[0m\u001b[0m\n\u001b[0m\u001b[1;32m   5903\u001b[0m \u001b[0;34m\u001b[0m\u001b[0m\n\u001b[1;32m   5904\u001b[0m     \u001b[0;32mdef\u001b[0m \u001b[0m__setattr__\u001b[0m\u001b[0;34m(\u001b[0m\u001b[0mself\u001b[0m\u001b[0;34m,\u001b[0m \u001b[0mname\u001b[0m\u001b[0;34m:\u001b[0m \u001b[0mstr\u001b[0m\u001b[0;34m,\u001b[0m \u001b[0mvalue\u001b[0m\u001b[0;34m)\u001b[0m \u001b[0;34m->\u001b[0m \u001b[0;32mNone\u001b[0m\u001b[0;34m:\u001b[0m\u001b[0;34m\u001b[0m\u001b[0;34m\u001b[0m\u001b[0m\n",
            "\u001b[0;31mAttributeError\u001b[0m: 'DataFrame' object has no attribute 'sj_nm'"
          ]
        }
      ]
    },
    {
      "cell_type": "code",
      "source": [
        "   # 재무상태표 부분\n",
        "                condition = (df1.sj_nm == '재무상태표') & (df1.account_nm == '유동자산') # 유동자산\n",
        "                condition_2 = (df1.sj_nm == '재무상태표') & (df1.account_nm == '부채총계') # 부채총계\n",
        "                condition_3 = (df1.sj_nm == '재무상태표') & \\\n",
        "                            ((df1.account_nm == '자본총계') | (df1.account_nm == '반기말자본') | (df1.account_nm == '3분기말자본') | (df1.account_nm == '분기말자본') | (df1.account_nm == '1분기말자본'))  #자본총계\n",
        "                # 손익계산서 부분\n",
        "                condition_4 = ((df1.sj_nm == '손익계산서') | (df1.sj_nm == '포괄손익계산서')) & ((df1.account_nm == '매출액') | (df1.account_nm == '수익(매출액)'))\n",
        "                condition_5 = ((df1.sj_nm == '손익계산서') | (df1.sj_nm == '포괄손익계산서')) & (df1.account_nm == '매출총이익')\n",
        "                condition_6 = ((df1.sj_nm == '손익계산서') | (df1.sj_nm == '포괄손익계산서')) & \\\n",
        "                                ((df1.account_nm == '영업이익(손실)') | (df1.account_nm == '영업이익'))\n",
        "                condition_7 = ((df1.sj_nm == '손익계산서') | (df1.sj_nm == '포괄손익계산서')) & \\\n",
        "                                ((df1.account_nm == '당기순이익(손실)') | (df1.account_nm == '당기순이익') | \\\n",
        "                                (df1.account_nm == '분기순이익') | (df1.account_nm == '분기순이익(손실)') | (df1.account_nm == '반기순이익') | (df1.account_nm == '반기순이익(손실)') | \\\n",
        "                                (df1.account_nm == '연결분기순이익') | (df1.account_nm == '연결반기순이익')| (df1.account_nm == '연결당기순이익')|(df1.account_nm == '연결분기(당기)순이익')|(df1.account_nm == '연결반기(당기)순이익')|\\\n",
        "                                (df1.account_nm == '연결분기순이익(손실)'))\n",
        "                # 현금흐름표 부분\n",
        "                condition_8 = (df1.sj_nm == '현금흐름표') & ((df1.account_nm == '영업활동으로 인한 현금흐름') | (df1.account_nm == '영업활동 현금흐름'))\n",
        "                condition_9 = (df1.sj_nm == '현금흐름표') & ((df1.account_nm == '투자활동으로 인한 현금흐름') | (df1.account_nm == '영업활동 현금흐름'))"
      ],
      "metadata": {
        "id": "fHIojmDdvpAZ"
      },
      "execution_count": null,
      "outputs": []
    },
    {
      "cell_type": "code",
      "source": [
        "#어닝프라이즈.. 특징주\n",
        "import requests\n",
        "from bs4 import BeautifulSoup\n",
        "import datetime\n",
        "import re\n",
        "\n",
        "dates = []\n",
        "codes = []\n",
        "titles = []\n",
        "\n",
        "pat_1 = re.compile('[\\]\\)>]+[ ]*[\\D]+[,]{1}')  #[특징주]OO,...\n",
        "pat_2 = re.compile('[\\]\\)>]+[ ]*[가-힣a-zA-Z&]+[ ]{1}') #[특징주]OO ...\n",
        "pat_3 = re.compile(\"' [가-힣a-zA-Z&]+ \") # <특징주> '어닝 서프라이즈' OO\n",
        "pat_sub = re.compile(\"[^가-힣a-zA-Z& ]\")\n",
        "\n",
        "for page_num in range(1,42,1):\n",
        "    url = 'https://finance.naver.com/news/news_search.nhn?'\\\n",
        "          'rcdate=1&q=%C6%AF%C2%A1%C1%D6+%BE%EE%B4%D7+%BC%AD%C7%C1%B6%F3%C0%CC%C1%EE&'\\\n",
        "          'x=9&y=15&sm=title.basic&pd=4&stDateStart=1997-01-01&stDateEnd=2019-12-31&'\\\n",
        "          'page='+ str(page_num)\n",
        "\n",
        "    raw = requests.get(url).text\n",
        "    html = BeautifulSoup(raw, 'html.parser')\n",
        "\n",
        "    html_titles = html.select('.articleSubject')\n",
        "    html_dates = html.select('.wdate')\n",
        "\n",
        "    for html_title in html_titles:\n",
        "        title = html_title.text.strip()\n",
        "        code = pat_1.search(title)\n",
        "        if code is not None:\n",
        "            code = pat_sub.sub(' ', code.group()).strip()\n",
        "            codes.append(code)\n",
        "            continue\n",
        "\n",
        "        code = pat_2.search(title)\n",
        "        if code is not None:\n",
        "            code = pat_sub.sub(' ', code.group()).strip()\n",
        "            codes.append(code)\n",
        "            continue\n",
        "\n",
        "        code = pat_3.search(title)\n",
        "        if code is not None:\n",
        "            code = pat_sub.sub(' ', code.group()).strip()\n",
        "            codes.append(code)\n",
        "            continue\n",
        "\n",
        "        codes.append(code)\n",
        "\n",
        "\n",
        "    for html_date in html_dates:\n",
        "        date = datetime.datetime.strptime(html_date.text.strip()[:10], '%Y-%m-%d')\n",
        "        dates.append(date)\n",
        "\n",
        "print('crowling done.')\n",
        "\n",
        "with open('earning.txt', 'w') as file:\n",
        "    for idx in range(len(codes)):\n",
        "        file.write('{0} / {1}\\n'.format(codes[idx], dates[idx]))"
      ],
      "metadata": {
        "id": "fYRcm8EA0xWe"
      },
      "execution_count": null,
      "outputs": []
    },
    {
      "cell_type": "markdown",
      "source": [
        "# 새 섹션"
      ],
      "metadata": {
        "id": "d84Z8TjHvrK3"
      }
    }
  ]
}